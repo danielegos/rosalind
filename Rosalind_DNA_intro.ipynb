{
 "cells": [
  {
   "cell_type": "code",
   "execution_count": 3,
   "id": "77652cf0-7123-4940-8624-d6cf4439130f",
   "metadata": {},
   "outputs": [],
   "source": [
    "DNA_string = 'GCCACGCGGAAGATCGGCATAGACGGGTCATTCCATGGGTAGTTTGCTTAGCCTGCAAAAACTTATAAGCTCTTACCGTCCATCACCTCCAACGGGTTTTTACTAACCCTCGACCCCGACATACGACCCCTGAGGGTAGTATAAAGCCGTAATGGCCTGAACCGTGGGGGATACGCAGGCTGAGATCCAAATACCAGTGAAGACTGGATTTCGGAAAACGTGAATTGAAGTGGGCACGAACAATGGCTAGATATGCGGGGCCGCGCCTCCGTCAAAAATTGAAGGAACCGGGCAGCCTGATTAGATGTTCGATTGCCACCAGCACACGTGGTTACTGTGACTTAAGGTGACACGGGCAGACACGTCGATGTCGCACCGTACCCTTCCCACGGGCTCGAGTAAGCGGCCATAACATGACACCGCTGAACGTCCCCTATGGAAAGCATCGTTCTATAATTCGGGTTCCACGTATATATGTTCGGACAATGTATACTTAAAAACTTATGACCTCGCTGGCTACCGGTTCAAAATCTCCGCGTCCCAATTATAGGGCACCCGTGTAACCAAGCTGATCCAACTTTTTAGTGATCTCGTCTGTCGGGTCTGTTTCAGCAACAACATAGCGGATCGTGATGTATGTAATTCCGATTCTCTCCTCGCATAATTGTTAACGTTTGGGGTGACGCGGCCCGCCGATAGGTACCTGATATCAGTGGTTCAATCCTTTGGTACCCTCTGGAGCCGATGTTGGGACATGAAACGAGCAGCCCGCATCTGTTGGAGTGCTTTACTAGATCCTTTATTGTAGCAATAATGCACTAGGTTTTCTACTGATATGTTTTACTACGATGCCGGCACCC'\n"
   ]
  },
  {
   "cell_type": "code",
   "execution_count": 9,
   "id": "65c10690-849c-47db-aed5-53b0b85fb7c0",
   "metadata": {},
   "outputs": [
    {
     "name": "stdout",
     "output_type": "stream",
     "text": [
      "214 218 210 218\n"
     ]
    }
   ],
   "source": [
    "num_A, num_C, num_G, num_T = 0, 0, 0, 0\n",
    "\n",
    "for char in DNA_string:\n",
    "    if char == 'A':\n",
    "        num_A +=1\n",
    "    elif char == 'C':\n",
    "        num_C +=1\n",
    "    elif char == 'G':\n",
    "        num_G +=1\n",
    "    else:\n",
    "        num_T +=1\n",
    "\n",
    "print(num_A, num_C, num_G, num_T)"
   ]
  },
  {
   "cell_type": "code",
   "execution_count": null,
   "id": "3aadc6f0-7de1-4d07-9e28-fb41fbc802ca",
   "metadata": {},
   "outputs": [],
   "source": []
  }
 ],
 "metadata": {
  "kernelspec": {
   "display_name": "Python [conda env:base] *",
   "language": "python",
   "name": "conda-base-py"
  },
  "language_info": {
   "codemirror_mode": {
    "name": "ipython",
    "version": 3
   },
   "file_extension": ".py",
   "mimetype": "text/x-python",
   "name": "python",
   "nbconvert_exporter": "python",
   "pygments_lexer": "ipython3",
   "version": "3.12.7"
  }
 },
 "nbformat": 4,
 "nbformat_minor": 5
}
